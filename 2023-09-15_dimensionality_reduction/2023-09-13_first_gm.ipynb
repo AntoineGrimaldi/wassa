{
 "cells": [
  {
   "cell_type": "code",
   "execution_count": 1,
   "id": "f3f9816c-f080-418d-a3e6-1f7429511c65",
   "metadata": {},
   "outputs": [],
   "source": [
    "%load_ext autoreload\n",
    "%autoreload 2"
   ]
  },
  {
   "cell_type": "code",
   "execution_count": 2,
   "id": "76280797-8d69-48aa-ac18-e70802653156",
   "metadata": {},
   "outputs": [],
   "source": [
    "import torch, os\n",
    "import matplotlib.pyplot as plt\n",
    "from unsupervised import plot_SM, plot_raster, plot_results"
   ]
  },
  {
   "cell_type": "markdown",
   "id": "218bea25-7bf2-4375-8b26-6ebbbe09566c",
   "metadata": {},
   "source": [
    "## Raster plot generative model with a superposition of SMs\n",
    "### Parameters"
   ]
  },
  {
   "cell_type": "code",
   "execution_count": 3,
   "id": "eba29dc4-4385-4ede-8dce-dccbecbc7e42",
   "metadata": {},
   "outputs": [
    {
     "name": "stdout",
     "output_type": "stream",
     "text": [
      "0.016666666666666666 0.08333333333333333\n"
     ]
    }
   ],
   "source": [
    "class world_params:\n",
    "    N_pre = 20 # number of neurons in the RP\n",
    "    N_delays = 51 # number of timesteps in the SM (must be a odd number for convolutions)\n",
    "    N_kernels = 5 # number of SM used for RP generation\n",
    "    \n",
    "    p_input = .1 # probability of having spike for the input\n",
    "    SM_ratio = 5 # coefficient that gives the SM/noise spike ratio\n",
    "    N_timesteps =  2**10 # number of timesteps in the RP\n",
    "    \n",
    "    p_spontaneous = p_input/(1+SM_ratio) # probability of the spontaneous activity\n",
    "    \n",
    "    # TODO define all this better to work only with probability values\n",
    "    avg_N_spikes = N_delays*N_pre*p_spontaneous # average number of spikes per SM\n",
    "    std_N_spikes = 1 # variance for the number of spikes per SM\n",
    "    \n",
    "    #p_sm = p_input*SM_ratio/(1+SM_ratio)\n",
    "    p_output = p_input*SM_ratio/((1+SM_ratio)*avg_N_spikes)\n",
    "    \n",
    "    avg_precision = 10 # average precision for the spikes in the SM (inverse of variance of the gaussian distribution defined for 1 spike)\n",
    "    std_precision = 1 # variance for the precision\n",
    "    \n",
    "    seed = 4815162342 # seed\n",
    "    \n",
    "    print(p_spontaneous, p_output*avg_N_spikes)"
   ]
  },
  {
   "cell_type": "markdown",
   "id": "c89c2eef-15d3-4c41-a158-df41a5edb114",
   "metadata": {},
   "source": [
    "### Generative model"
   ]
  },
  {
   "cell_type": "code",
   "execution_count": 4,
   "id": "59b7ba56-8a63-4dc5-be58-26f30334f1eb",
   "metadata": {},
   "outputs": [],
   "source": [
    "def gaussian_kernel(n_steps, mu, std):\n",
    "    x = torch.arange(n_steps)\n",
    "    return torch.exp(-(x-mu)**2/(2*std**2))/(std*torch.sqrt(torch.Tensor([2*torch.pi])))\n",
    "\n",
    "class SM_World:\n",
    "    def __init__(self, opt):\n",
    "        # initialization of the parameters + drawing of the kernels\n",
    "        self.opt: Params = opt\n",
    "        self.kernels = torch.zeros(self.opt.N_kernels, self.opt.N_pre, self.opt.N_delays)\n",
    "        for k in range(self.opt.N_kernels):\n",
    "            nb_spikes = int(torch.normal(torch.Tensor([self.opt.avg_N_spikes]), torch.Tensor([self.opt.std_N_spikes])).abs())\n",
    "            addr, delay, precision = (torch.randint(self.opt.N_pre, [nb_spikes]), torch.randint(self.opt.N_delays, [nb_spikes]), torch.normal(torch.ones([nb_spikes])*self.opt.avg_precision, torch.ones([nb_spikes])*self.opt.std_precision).abs())\n",
    "            for s in range(nb_spikes):\n",
    "                self.kernels[k, addr[s], :] += gaussian_kernel(self.opt.N_delays, delay[s], 1/precision[s])\n",
    "            if self.kernels[k, :, :].max()>1: self.kernels[k, :,:]/=self.kernels[k, :, :].max()\n",
    "                \n",
    "    def draw_input(self, N_trials = 1, do_channels = False):\n",
    "        \n",
    "        spontaneous_activity = torch.bernoulli(torch.ones([N_trials, self.opt.N_pre, self.opt.N_timesteps])*self.opt.p_spontaneous)\n",
    "        \n",
    "        output_proba = torch.ones(N_trials, self.opt.N_kernels, self.opt.N_timesteps)*self.opt.p_output\n",
    "        output_rp = torch.bernoulli(output_proba)\n",
    "        \n",
    "        input_sm_proba = torch.conv_transpose1d(output_rp, self.kernels)\n",
    "        input_sm_proba = torch.roll(input_sm_proba, -self.kernels.shape[2], dims=2)[:,:,:-self.kernels.shape[2]+1]\n",
    "        \n",
    "        input_rp = torch.bernoulli(torch.minimum(input_sm_proba, torch.ones_like(input_sm_proba))) + spontaneous_activity\n",
    "        \n",
    "        if do_channels:\n",
    "            input_rp_with_channels = torch.zeros(self.opt.N_kernels+1, N_trials, self.opt.N_pre, self.opt.N_timesteps)\n",
    "            input_rp_with_channels[0,:,:,:] = spontaneous_activity\n",
    "            for sm in range(self.opt.N_kernels):\n",
    "                output_rp_with_channels = torch.zeros(N_trials, self.opt.N_kernels, self.opt.N_timesteps)\n",
    "                output_rp_with_channels[:,sm,:] = output_rp[:,sm,:]\n",
    "                input_sm_proba_with_channels = torch.conv_transpose1d(output_rp_with_channels, self.kernels)\n",
    "                input_sm_proba_with_channels = torch.roll(input_sm_proba_with_channels, -self.kernels.shape[2], dims=2)[:,:,:-self.kernels.shape[2]+1]\n",
    "                input_rp_with_channels[sm+1,:,:,:] = torch.bernoulli(torch.minimum(input_sm_proba_with_channels, torch.ones_like(input_sm_proba_with_channels)))\n",
    "        \n",
    "            return input_rp, output_rp, input_rp_with_channels\n",
    "        else:\n",
    "            return input_rp, output_rp"
   ]
  },
  {
   "cell_type": "code",
   "execution_count": 5,
   "id": "3a0a4f4a-0860-43b6-9ff5-42853151d6d9",
   "metadata": {},
   "outputs": [
    {
     "name": "stdout",
     "output_type": "stream",
     "text": [
      "tensor(344.) tensor(330.)\n"
     ]
    }
   ],
   "source": [
    "opt = world_params()\n",
    "world = SM_World(opt)\n",
    "input_rp, output_rp, input_rp_with_channels = world.draw_input(do_channels = True)\n",
    "\n",
    "print(input_rp_with_channels[0,:,:,:].sum(), input_rp_with_channels[1:,:,:,:].sum())"
   ]
  },
  {
   "cell_type": "code",
   "execution_count": 6,
   "id": "14d0fd48-ec31-4f85-960f-852b8d1f8d82",
   "metadata": {},
   "outputs": [],
   "source": [
    "import numpy as np\n",
    "import matplotlib.pyplot as plt\n",
    "import matplotlib\n",
    "\n",
    "def plot_raster(raster, trial_nb = 0, colored=False, title = 'raster plot'):\n",
    "\n",
    "    subplotpars = matplotlib.figure.SubplotParams(left=0.125, right=.95, bottom=0.25, top=.975, wspace=0.05, hspace=0.05,)\n",
    "\n",
    "    xticks, yticks = 6, 16 \n",
    "    spikelength=.9\n",
    "    colors = ['grey', '#ff7f0e', '#2ca02c', '#d62728', '#9467bd', '#8c564b', '#e377c2',\n",
    " '#7f7f7f', '#bcbd22', '#17becf']\n",
    "    figsize = (12, 1.61803) \n",
    "    linewidths=1.0\n",
    "    \n",
    "    if colored: \n",
    "        N_kernels, N_trials, N_neurons, N_timesteps = raster.shape\n",
    "    else: \n",
    "        N_trials, N_neurons, N_timesteps = raster.shape\n",
    "    \n",
    "    fig, ax = plt.subplots(1, 1, figsize=figsize, subplotpars=subplotpars)\n",
    "    if colored:\n",
    "        \n",
    "        for i in range(0, N_neurons):\n",
    "            for sm in range(N_kernels):\n",
    "                ax.eventplot(np.where(raster[sm, trial_nb, i, :] > 0)[0], \n",
    "                    colors=colors[sm], lineoffsets=1.*i+spikelength/2,\n",
    "                    linelengths=spikelength, linewidths=linewidths)\n",
    "    else:\n",
    "        for i in range(0, N_neurons):\n",
    "            ax.eventplot(np.where(raster[trial_nb, i, :] > 0)[0], \n",
    "                colors=colors[0], lineoffsets=1.*i+spikelength/2,\n",
    "                linelengths=spikelength, linewidths=linewidths)\n",
    "\n",
    "    ax.set_ylabel('address')\n",
    "    ax.set_xlabel('Time (a. u.)')\n",
    "    ax.set_xlim(0, N_timesteps)\n",
    "    ax.set_ylim(0, N_neurons)\n",
    "\n",
    "    ax.set_yticks(np.arange(0, N_neurons, 1)+.5)\n",
    "    ax.set_yticklabels('')#np.linspace(1, N_neurons, 9, endpoint=True).astype(int))\n",
    "    for side in ['top', 'right']: ax.spines[side].set_visible(False)\n",
    "\n",
    "    ax.xaxis.set_minor_locator(matplotlib.ticker.MultipleLocator(N_timesteps/4))\n",
    "    ax.set_xticks(np.linspace(1, N_timesteps, xticks, endpoint=True))\n",
    "    ax.set_xticklabels(np.linspace(1, N_timesteps, xticks, endpoint=True).astype(int))\n",
    "    ax.set_title(title)\n",
    "    \n",
    "    ax.grid(visible=True, axis='y', linestyle='-', lw=.5)\n",
    "    #ax.grid(visible=True, axis='x', which='both', linestyle='-', lw=.1)\n",
    "    return fig, ax\n",
    "\n",
    "def plot_SM(SMs, N_show = 5, cmap='plasma', colors=None, aspect=None, figsize = (12, 1.61803)):\n",
    "        \n",
    "        subplotpars = matplotlib.figure.SubplotParams(left=0.125, right=.95, bottom=0.25, top=.975, wspace=0.05, hspace=0.05,)\n",
    "\n",
    "        N_SMs, N_pre, N_delays = SMs.shape\n",
    "        \n",
    "        fig, axs = plt.subplots(1, N_show, figsize=figsize, subplotpars=subplotpars)\n",
    "        for i_SM in range(N_show):\n",
    "            ax = axs[i_SM]\n",
    "            ax.set_axisbelow(True)\n",
    "            ax.pcolormesh(SMs[i_SM, :, :].flip(1), cmap=cmap, vmin=SMs.min(), vmax=SMs.max())\n",
    "            #ax.imshow(self.SMs[:, i_SM, :], cmap=cmap, vmin=0, vmax=1, interpolation='none')\n",
    "            ax.set_xlim(0, N_delays)\n",
    "            ax.set_xlabel('Delay')\n",
    "            t = ax.text(.805*N_delays, .95*N_pre, f'#{i_SM+1}', color='k' if colors is None else colors[i_SM])\n",
    "            t.set_bbox(dict(facecolor='white', edgecolor='white'))\n",
    "            if not aspect is None: ax.set_aspect(aspect)\n",
    "\n",
    "            ax.set_ylim(0, N_pre)\n",
    "            ax.set_yticks(np.arange(0, N_pre, 1)+.5)\n",
    "            if i_SM>0: \n",
    "                ax.set_yticklabels([])\n",
    "            else:\n",
    "                ax.set_yticklabels(np.arange(0, N_pre, 1)+1)\n",
    "\n",
    "            for side in ['top', 'right']: ax.spines[side].set_visible(False)\n",
    "            ax.set_xticks([1, N_delays//3, (N_delays*2)//3])\n",
    "            ax.xaxis.set_minor_locator(matplotlib.ticker.AutoMinorLocator(N_delays//4))\n",
    "\n",
    "        axs[0].set_ylabel('@ Neuron')\n",
    "        return fig, axs"
   ]
  },
  {
   "cell_type": "code",
   "execution_count": 7,
   "id": "eb3b68a0-3c53-42ea-b632-f8fb62f613a3",
   "metadata": {},
   "outputs": [
    {
     "data": {
      "image/png": "[encoded data removed]",
      "text/plain": [
       "<Figure size 864x360 with 5 Axes>"
      ]
     },
     "metadata": {
      "needs_background": "light"
     },
     "output_type": "display_data"
    },
    {
     "data": {
      "image/png": "[encoded data removed]",
      "text/plain": [
       "<Figure size 864x116.498 with 1 Axes>"
      ]
     },
     "metadata": {
      "needs_background": "light"
     },
     "output_type": "display_data"
    },
    {
     "data": {
      "image/png": "[encoded data removed]",
      "text/plain": [
       "<Figure size 864x116.498 with 1 Axes>"
      ]
     },
     "metadata": {
      "needs_background": "light"
     },
     "output_type": "display_data"
    },
    {
     "data": {
      "image/png": "[encoded data removed]",
      "text/plain": [
       "<Figure size 864x116.498 with 1 Axes>"
      ]
     },
     "metadata": {
      "needs_background": "light"
     },
     "output_type": "display_data"
    }
   ],
   "source": [
    "plot_SM(world.kernels, N_show = opt.N_kernels, figsize = (12, 5));\n",
    "plot_raster(input_rp, colored=False);\n",
    "plot_raster(output_rp, colored=False);\n",
    "plot_raster(input_rp_with_channels, colored=True);"
   ]
  },
  {
   "cell_type": "code",
   "execution_count": null,
   "id": "7eebe495-c480-4e88-b2b4-7a5f707e54c3",
   "metadata": {},
   "outputs": [],
   "source": []
  }
 ],
 "metadata": {
  "kernelspec": {
   "display_name": "Python 3 (ipykernel)",
   "language": "python",
   "name": "python3"
  },
  "language_info": {
   "codemirror_mode": {
    "name": "ipython",
    "version": 3
   },
   "file_extension": ".py",
   "mimetype": "text/x-python",
   "name": "python",
   "nbconvert_exporter": "python",
   "pygments_lexer": "ipython3",
   "version": "3.8.5"
  }
 },
 "nbformat": 4,
 "nbformat_minor": 5
}
