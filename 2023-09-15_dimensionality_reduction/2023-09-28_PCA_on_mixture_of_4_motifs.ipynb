{
 "cells": [
  {
   "cell_type": "code",
   "execution_count": 1,
   "metadata": {
    "id": "ZwTb7kl5BjU1"
   },
   "outputs": [],
   "source": [
    "%load_ext autoreload\n",
    "%autoreload 2"
   ]
  },
  {
   "cell_type": "code",
   "execution_count": 2,
   "metadata": {},
   "outputs": [
    {
     "name": "stderr",
     "output_type": "stream",
     "text": [
      "/gs/home/grimaldiav/.conda/envs_ppc/ppc-spikeship/lib/python3.10/site-packages/numba/core/decorators.py:282: RuntimeWarning: nopython is set for njit and is ignored\n",
      "  warnings.warn('nopython is set for njit and is ignored', RuntimeWarning)\n",
      "/mnt/pns/home/grimaldiav/Documents/SpikeShip/spikeship/spikeship.py:254: NumbaDeprecationWarning: \u001b[1mThe 'nopython' keyword argument was not supplied to the 'numba.jit' decorator. The implicit default value for this argument is currently False, but it will be changed to True in Numba 0.59.0. See https://numba.readthedocs.io/en/stable/reference/deprecation.html#deprecation-of-object-mode-fall-back-behaviour-when-using-jit for details.\u001b[0m\n",
      "  @jit(int32(int32, int32))\n"
     ]
    }
   ],
   "source": [
    "from spikeship import spikeship\n",
    "import numpy as np\n",
    "import matplotlib.pyplot as plt\n",
    "import matplotlib\n",
    "import torch, os\n",
    "from tqdm import tqdm\n",
    "from sklearn.decomposition import PCA, TruncatedSVD\n",
    "from sklearn.manifold import MDS, spectral_embedding, TSNE"
   ]
  },
  {
   "cell_type": "raw",
   "metadata": {
    "tags": []
   },
   "source": [
    "!conda install -y numba"
   ]
  },
  {
   "cell_type": "raw",
   "metadata": {},
   "source": [
    "!pip install git+https://github.com/bsotomayorg/SpikeShip.git"
   ]
  },
  {
   "cell_type": "code",
   "execution_count": 3,
   "metadata": {
    "id": "tKRqSSIxBzYz"
   },
   "outputs": [],
   "source": [
    "def tensor2spikeship(rp_tensor):\n",
    "    N_epochs, N_neurons, N_timesteps = rp_tensor.shape\n",
    "    #epochs, neurons, times = np.where(rp_tensor>0)\n",
    "    spike_times = np.array([])\n",
    "    ii_spike_times = np.zeros([N_epochs, N_neurons, 2])\n",
    "    nb_previous_timestamps = 0\n",
    "    last_previous_timestamp = 0\n",
    "    for e in tqdm(range(N_epochs)):\n",
    "        neurons, times = np.where(rp_tensor[e,:,:]>0)\n",
    "        for n in np.unique(neurons):\n",
    "            indices = np.where(neurons==n)[0]\n",
    "            ii_spike_times[e,n,:] = [indices[0], indices[-1]+1] + np.ones([2])*nb_previous_timestamps\n",
    "            spike_times = np.hstack([spike_times,times[indices]]) if spike_times.shape[0]>0 else times[indices]\n",
    "        nb_previous_timestamps += len(times)\n",
    "        #last_previous_timestamp += times[-1]\n",
    "    return spike_times, ii_spike_times\n",
    "\n",
    "def plot_raster(raster, trial_nb = 0, colored=False, title = 'raster plot'):\n",
    "\n",
    "    subplotpars = matplotlib.figure.SubplotParams(left=0.125, right=.95, bottom=0.25, top=.975, wspace=0.05, hspace=0.05,)\n",
    "\n",
    "    xticks, yticks = 6, 16\n",
    "    spikelength=.9\n",
    "    colors = ['grey', '#ff7f0e', '#2ca02c', '#d62728', '#9467bd', '#8c564b', '#e377c2',\n",
    " '#7f7f7f', '#bcbd22', '#17becf']\n",
    "    figsize = (12, 1.61803)\n",
    "    linewidths=1.0\n",
    "    \n",
    "    if colored:\n",
    "        N_kernels, N_trials, N_neurons, N_timesteps = raster.shape\n",
    "    else:\n",
    "        N_trials, N_neurons, N_timesteps = raster.shape\n",
    "\n",
    "    fig, ax = plt.subplots(1, 1, figsize=figsize, subplotpars=subplotpars)\n",
    "    if colored:\n",
    "\n",
    "        for i in range(0, N_neurons):\n",
    "            for sm in range(N_kernels):\n",
    "                ax.eventplot(np.where(raster[sm, trial_nb, i, :] > 0)[0],\n",
    "                    colors=colors[sm], lineoffsets=1.*i+spikelength/2,\n",
    "                    linelengths=spikelength, linewidths=linewidths)\n",
    "    else:\n",
    "        for i in range(0, N_neurons):\n",
    "            ax.eventplot(np.where(raster[trial_nb, i, :] > 0)[0],\n",
    "                colors=colors[0], lineoffsets=1.*i+spikelength/2,\n",
    "                linelengths=spikelength, linewidths=linewidths)\n",
    "\n",
    "    ax.set_ylabel('address')\n",
    "    ax.set_xlabel('Time (a. u.)')\n",
    "    ax.set_xlim(0, N_timesteps)\n",
    "    ax.set_ylim(0, N_neurons)\n",
    "\n",
    "    ax.set_yticks(np.arange(0, N_neurons, 1)+.5)\n",
    "    ax.set_yticklabels('')#np.linspace(1, N_neurons, 9, endpoint=True).astype(int))\n",
    "    for side in ['top', 'right']: ax.spines[side].set_visible(False)\n",
    "\n",
    "    ax.xaxis.set_minor_locator(matplotlib.ticker.MultipleLocator(N_timesteps/4))\n",
    "    ax.set_xticks(np.linspace(1, N_timesteps, xticks, endpoint=True))\n",
    "    ax.set_xticklabels(np.linspace(1, N_timesteps, xticks, endpoint=True).astype(int))\n",
    "    ax.set_title(title)\n",
    "\n",
    "    ax.grid(visible=True, axis='y', linestyle='-', lw=.5)\n",
    "    #ax.grid(visible=True, axis='x', which='both', linestyle='-', lw=.1)\n",
    "    return fig, ax\n",
    "\n",
    "def plot_SM(SMs, N_show = 5, cmap='plasma', colors=None, aspect=None, figsize = (12, 1.61803)):\n",
    "    subplotpars = matplotlib.figure.SubplotParams(left=0.125, right=.95, bottom=0.25, top=.975, wspace=0.05, hspace=0.05,)\n",
    "\n",
    "    N_SMs, N_pre, N_delays = SMs.shape\n",
    "\n",
    "    fig, axs = plt.subplots(1, N_show, figsize=figsize, subplotpars=subplotpars)\n",
    "    for i_SM in range(N_show):\n",
    "        ax = axs[i_SM]\n",
    "        ax.set_axisbelow(True)\n",
    "        ax.pcolormesh(SMs[i_SM, :, :].flip(1), cmap=cmap, vmin=SMs.min(), vmax=SMs.max())\n",
    "        #ax.imshow(self.SMs[:, i_SM, :], cmap=cmap, vmin=0, vmax=1, interpolation='none')\n",
    "        ax.set_xlim(0, N_delays)\n",
    "        ax.set_xlabel('Delay')\n",
    "        t = ax.text(.805*N_delays, .95*N_pre, f'#{i_SM+1}', color='k' if colors is None else colors[i_SM])\n",
    "        t.set_bbox(dict(facecolor='white', edgecolor='white'))\n",
    "        if not aspect is None: ax.set_aspect(aspect)\n",
    "\n",
    "        ax.set_ylim(0, N_pre)\n",
    "        ax.set_yticks(np.arange(0, N_pre, 1)+.5)\n",
    "        if i_SM>0:\n",
    "            ax.set_yticklabels([])\n",
    "        else:\n",
    "            ax.set_yticklabels(np.arange(0, N_pre, 1)+1)\n",
    "\n",
    "        for side in ['top', 'right']: ax.spines[side].set_visible(False)\n",
    "        ax.set_xticks([1, N_delays//3, (N_delays*2)//3])\n",
    "        ax.xaxis.set_minor_locator(matplotlib.ticker.AutoMinorLocator(N_delays//4))\n",
    "\n",
    "    axs[0].set_ylabel('@ Neuron')\n",
    "    return fig, axs\n",
    "\n",
    "\n",
    "def gaussian_kernel(n_steps, mu, std):\n",
    "    x = torch.arange(n_steps)\n",
    "    return torch.exp(-(x-mu)**2/(2*std**2))/(std*torch.sqrt(torch.Tensor([2*torch.pi])))"
   ]
  },
  {
   "cell_type": "code",
   "execution_count": 4,
   "metadata": {},
   "outputs": [],
   "source": [
    "class SM_World:\n",
    "    def __init__(self, opt, add_coef = None):\n",
    "        # initialization of the parameters + drawing of the kernels\n",
    "        # here one of the kernels is a combination of the 2 first ones with parameter add_coef ([0,1])\n",
    "        self.opt: Params = opt\n",
    "        if add_coef is not None:\n",
    "            self.kernels = torch.zeros(self.opt.N_kernels+1, self.opt.N_pre, self.opt.N_delays)\n",
    "        else:\n",
    "            self.kernels = torch.zeros(self.opt.N_kernels, self.opt.N_pre, self.opt.N_delays)\n",
    "\n",
    "        for k in range(self.kernels.shape[0]):\n",
    "            nb_spikes = int(torch.normal(torch.Tensor([self.opt.avg_N_spikes]), torch.Tensor([self.opt.std_N_spikes])).abs())\n",
    "            addr, delay, precision = (torch.randint(self.opt.N_pre, [nb_spikes]), torch.randint(self.opt.N_delays, [nb_spikes]), torch.normal(torch.ones([nb_spikes])*self.opt.avg_precision, torch.ones([nb_spikes])*self.opt.std_precision).abs())\n",
    "            for s in range(nb_spikes):\n",
    "                self.kernels[k, addr[s], :] += gaussian_kernel(self.opt.N_delays, delay[s], 1/precision[s])\n",
    "            self.kernels[self.kernels>1] = 1\n",
    "            \n",
    "        if add_coef is not None:\n",
    "            assert len(add_coef)==self.opt.N_kernels\n",
    "            assert add_coef.sum()==1\n",
    "            add_coef = torch.hstack([add_coef,torch.zeros(1)])\n",
    "            self.kernels[-1, :, :] = torch.matmul(self.kernels.T,add_coef).T\n",
    "        self.add_coef = add_coef\n",
    "    \n",
    "    def draw_input_one_sm(self, N_trials = 1, do_channels = False):\n",
    "        #spontaneous_activity = torch.bernoulli(torch.ones([N_trials, self.opt.N_pre, self.opt.N_timesteps])*self.opt.p_spontaneous)\n",
    "        labels = torch.randint(self.kernels.shape[0], [N_trials])\n",
    "        max_proba = torch.ones([N_trials, self.opt.N_pre, self.opt.N_timesteps])\n",
    "        input_rp = torch.zeros([N_trials, self.opt.N_pre, self.opt.N_timesteps])\n",
    "        \n",
    "        if self.add_coef is not None:\n",
    "            output_labels = self.add_coef.repeat(N_trials,1)\n",
    "        else:\n",
    "            output_labels = labels\n",
    "        for k in range(self.kernels.shape[0]):\n",
    "            indices = labels == k\n",
    "            input_rp[indices,:,:] = torch.bernoulli(torch.min(self.kernels[k,:,:].unsqueeze(0).repeat(indices.sum(),1,1), max_proba[indices,:,:]))\n",
    "            if self.add_coef is not None:\n",
    "                if k<(self.kernels.shape[0]-1):\n",
    "                    output_labels[indices,:] = k\n",
    "                else:\n",
    "                    output_labels[indices,-1] = k\n",
    "        return input_rp, output_labels"
   ]
  },
  {
   "cell_type": "code",
   "execution_count": 5,
   "metadata": {
    "id": "2QWCSFadB5xg"
   },
   "outputs": [],
   "source": [
    "class world_params:\n",
    "    N_pre = 100 # number of neurons in the RP\n",
    "    N_delays = 51 # number of timesteps in the SM (must be an odd number for convolutions)\n",
    "    N_kernels = 4 # number of SM used for RP generation\n",
    "\n",
    "    p_input = .1 # global probability of having a spike in the timebins of the RP as input\n",
    "    sm_ratio = .5 # probability of a spike as input to belong to the SM\n",
    "    p_spontaneous =  p_input*(1-sm_ratio)\n",
    "    p_spike_in_motif = p_input*sm_ratio # probability of having a spike in the timebins of the SM\n",
    "\n",
    "    avg_N_spikes = p_spike_in_motif*N_delays*N_pre\n",
    "    std_N_spikes = 1\n",
    "\n",
    "    N_timesteps =  N_delays # number of timesteps in the RP\n",
    "\n",
    "    avg_precision = 5 # average precision for the spikes in the SM (inverse of variance of the gaussian distribution defined for 1 spike)\n",
    "    std_precision = 1 # variance for the precision\n",
    "\n",
    "    seed = 4815162342 # seed"
   ]
  },
  {
   "cell_type": "markdown",
   "metadata": {
    "id": "mkwaRxTXCCQV"
   },
   "source": [
    "## Model with 2 motifs and a combination of the 2"
   ]
  },
  {
   "cell_type": "code",
   "execution_count": 6,
   "metadata": {
    "id": "KNh1OMm47Up2"
   },
   "outputs": [],
   "source": [
    "N_trials = 1000\n",
    "add_coef = torch.Tensor([.2,.6,.1, .1])"
   ]
  },
  {
   "cell_type": "code",
   "execution_count": 7,
   "metadata": {
    "id": "XOLCYKnvCFV3"
   },
   "outputs": [
    {
     "name": "stderr",
     "output_type": "stream",
     "text": [
      "/tmp/ipykernel_684144/3118222254.py:22: UserWarning: The use of `x.T` on tensors of dimension other than 2 to reverse their shape is deprecated and it will throw an error in a future release. Consider `x.mT` to transpose batches of matrices or `x.permute(*torch.arange(x.ndim - 1, -1, -1))` to reverse the dimensions of a tensor. (Triggered internally at /croot/pytorch_1681837271882/work/aten/src/ATen/native/TensorShape.cpp:3281.)\n",
      "  self.kernels[-1, :, :] = torch.matmul(self.kernels.T,add_coef).T\n"
     ]
    }
   ],
   "source": [
    "opt = world_params()\n",
    "world = SM_World(opt, add_coef = add_coef)\n",
    "input_rp, labels = world.draw_input_one_sm(N_trials = N_trials, do_channels = True)"
   ]
  },
  {
   "cell_type": "code",
   "execution_count": 8,
   "metadata": {
    "colab": {
     "base_uri": "https://localhost:8080/",
     "height": 649
    },
    "id": "5fgMeJJPCGb4",
    "outputId": "93623c10-bef8-44e7-a9fc-3fbe82f9f3dc"
   },
   "outputs": [
    {
     "data": {
      "image/png": "[encoded data removed]",
      "text/plain": [
       "<Figure size 1200x500 with 5 Axes>"
      ]
     },
     "metadata": {},
     "output_type": "display_data"
    },
    {
     "data": {
      "image/png": "[encoded data removed]",
      "text/plain": [
       "<Figure size 1200x161.803 with 1 Axes>"
      ]
     },
     "metadata": {},
     "output_type": "display_data"
    }
   ],
   "source": [
    "plot_SM(world.kernels, N_show = world.kernels.shape[0], figsize = (12, 5));\n",
    "plot_raster(input_rp, colored=False);"
   ]
  },
  {
   "cell_type": "markdown",
   "metadata": {
    "id": "qf9qYk8cCZrd"
   },
   "source": [
    "### Format the ouput for SpikeShip"
   ]
  },
  {
   "cell_type": "code",
   "execution_count": 9,
   "metadata": {},
   "outputs": [
    {
     "name": "stderr",
     "output_type": "stream",
     "text": [
      "100%|█████████████████████████████████████████████████████████████████████████████████████████████████████████████████████████████████████████████████████████████████████████| 6/6 [02:13<00:00, 22.24s/it]\n"
     ]
    }
   ],
   "source": [
    "stacked_input = torch.Tensor([])\n",
    "stacked_labels = torch.Tensor([])\n",
    "\n",
    "values = [0, 0.2, 0.4, 0.6, 0.8, 1]\n",
    "\n",
    "for add_coef_1 in tqdm(values):\n",
    "    for add_coef_2 in values:\n",
    "        for add_coef_3 in values:\n",
    "            for add_coef_4 in values:\n",
    "                sum_coef = add_coef_1+add_coef_2+add_coef_3+add_coef_4\n",
    "                if sum_coef>0:\n",
    "                    N_trials = 20\n",
    "                    world.add_coef = torch.tensor([add_coef_1, add_coef_2, add_coef_3, add_coef_4, 0])/sum_coef\n",
    "                    world.kernels[-1, :, :] = torch.matmul(world.kernels.T,world.add_coef).T\n",
    "                    input_rp, output_labels = world.draw_input_one_sm(N_trials = N_trials)\n",
    "                    #print(input_rp.shape, output_labels.shape, stacked_input.shape, stacked_labels.shape)\n",
    "                    if stacked_input.shape[0]>0:\n",
    "                        stacked_input = torch.vstack([stacked_input,input_rp])\n",
    "                        stacked_labels = torch.vstack([stacked_labels,output_labels])\n",
    "                    else:\n",
    "                        stacked_input = input_rp\n",
    "                        stacked_labels = output_labels"
   ]
  },
  {
   "cell_type": "markdown",
   "metadata": {},
   "source": [
    "### Remove trials with neurons and no spike (gives np.nan in S_dist) - TODO: find a better generative model"
   ]
  },
  {
   "cell_type": "code",
   "execution_count": 10,
   "metadata": {},
   "outputs": [],
   "source": [
    "if (stacked_input.sum(dim=(1,2))<1).sum()>0:\n",
    "    print(f'{(stacked_input.sum(dim=(1,2))<1).sum()} trials with no spike for at least one neuron')\n",
    "    spike_ind = (stacked_input.sum(dim=(1,2))>=1)\n",
    "    input_rp, labels = stacked_input[spike_ind,:,:], stacked_labels[spike_ind]\n",
    "else:\n",
    "    input_rp, labels = stacked_input, stacked_labels"
   ]
  },
  {
   "cell_type": "code",
   "execution_count": 11,
   "metadata": {
    "id": "PYElc0xUCXnI"
   },
   "outputs": [
    {
     "name": "stderr",
     "output_type": "stream",
     "text": [
      "100%|███████████████████████████████████████████████████████████████████████████████████████████████████████████████████████████████████████████████████████████████| 25900/25900 [1:59:50<00:00,  3.60it/s]\n"
     ]
    }
   ],
   "source": [
    "spike_times, ii_spike_times = tensor2spikeship(input_rp)\n",
    "ii_spike_times = ii_spike_times.astype('int32')\n",
    "labels = labels.numpy()"
   ]
  },
  {
   "cell_type": "code",
   "execution_count": 12,
   "metadata": {},
   "outputs": [
    {
     "name": "stdout",
     "output_type": "stream",
     "text": [
      "torch.Size([25900, 100, 51]) (25900, 100, 2)\n"
     ]
    }
   ],
   "source": [
    "print(input_rp.shape, ii_spike_times.shape)"
   ]
  },
  {
   "cell_type": "code",
   "execution_count": 13,
   "metadata": {
    "colab": {
     "base_uri": "https://localhost:8080/"
    },
    "id": "fKmhmh5bDHHn",
    "outputId": "7d3c8894-95af-48dd-86fc-7506c870ee33"
   },
   "outputs": [
    {
     "name": "stdout",
     "output_type": "stream",
     "text": [
      "CPU times: user 17h 19min 32s, sys: 5.8 s, total: 17h 19min 38s\n",
      "Wall time: 6min 16s\n"
     ]
    }
   ],
   "source": [
    "%%time\n",
    "S_dist = spikeship.distances(spike_times, ii_spike_times)"
   ]
  },
  {
   "cell_type": "code",
   "execution_count": 14,
   "metadata": {},
   "outputs": [],
   "source": [
    "if np.isnan(S_dist).sum():\n",
    "    print(f'{np.isnan(S_dist).sum()/(S_dist.shape[0]**2)*100}% of nan values')"
   ]
  },
  {
   "cell_type": "code",
   "execution_count": 15,
   "metadata": {},
   "outputs": [
    {
     "name": "stdout",
     "output_type": "stream",
     "text": [
      "[0.00000000e+00 9.72222222e-04 1.11111111e-03 ... 1.16384387e+01\n",
      " 1.16596935e+01 1.18394706e+01]\n"
     ]
    }
   ],
   "source": [
    "print(np.unique(S_dist))"
   ]
  },
  {
   "cell_type": "code",
   "execution_count": 16,
   "metadata": {},
   "outputs": [
    {
     "name": "stdout",
     "output_type": "stream",
     "text": [
      "(25900, 5)\n"
     ]
    }
   ],
   "source": [
    "print(labels.shape)"
   ]
  },
  {
   "cell_type": "raw",
   "metadata": {},
   "source": [
    "ind_last = (labels.mean(axis=1)>0)*(labels.mean(axis=1)<1)\n",
    "single_value_labels = labels[:,-1]\n",
    "single_value_labels[ind_last] = world.kernels.shape[0]"
   ]
  },
  {
   "cell_type": "code",
   "execution_count": 17,
   "metadata": {
    "id": "PBtyx_5gl0qc"
   },
   "outputs": [
    {
     "name": "stdout",
     "output_type": "stream",
     "text": [
      "(25900,)\n"
     ]
    }
   ],
   "source": [
    "si = np.argsort(labels[:,-1])\n",
    "print(si.shape)"
   ]
  },
  {
   "cell_type": "markdown",
   "metadata": {},
   "source": [
    "### Dissimilarity matrix"
   ]
  },
  {
   "cell_type": "code",
   "execution_count": 18,
   "metadata": {},
   "outputs": [
    {
     "data": {
      "image/png": "[encoded data removed]",
      "text/plain": [
       "<Figure size 500x500 with 2 Axes>"
      ]
     },
     "metadata": {},
     "output_type": "display_data"
    }
   ],
   "source": [
    "fig, axs = plt.subplots(figsize=(5,5), facecolor='w')\n",
    "axs.set_xlabel(\"Epoch\"); axs.set_ylabel(\"Epoch\");\n",
    "#axs.set_xticklabels(labels[si][[0,200,400,600,800,1000]]); #axs.set_ylabel(\"Epoch\");\n",
    "im = axs.imshow(S_dist[:,si][si], cmap='PuBu')\n",
    "axs.set_title(\"Sorted Dissimilarity Matrix\")\n",
    "cbar = plt.colorbar(im, ax=axs)\n",
    "cbar.set_label(\"SpikeShip\", fontsize=10)"
   ]
  },
  {
   "cell_type": "markdown",
   "metadata": {},
   "source": [
    "## Linear dimensionnality reduction methods\n",
    "### Principal component analysis"
   ]
  },
  {
   "cell_type": "code",
   "execution_count": 19,
   "metadata": {},
   "outputs": [],
   "source": [
    "number_of_components = len(world.add_coef)-1\n",
    "colors = ['r', 'g', 'b']"
   ]
  },
  {
   "cell_type": "code",
   "execution_count": 20,
   "metadata": {},
   "outputs": [
    {
     "name": "stdout",
     "output_type": "stream",
     "text": [
      "[0.37948971 0.32326365 0.29081456 0.00579659]\n",
      "[55375.46941371 51108.82026859 48475.85645498  6843.90086421]\n"
     ]
    }
   ],
   "source": [
    "pca = PCA(n_components=number_of_components)\n",
    "pca.fit(S_dist)\n",
    "print(pca.explained_variance_ratio_)\n",
    "print(pca.singular_values_)"
   ]
  },
  {
   "cell_type": "code",
   "execution_count": 21,
   "metadata": {},
   "outputs": [
    {
     "ename": "NameError",
     "evalue": "name 'indices' is not defined",
     "output_type": "error",
     "traceback": [
      "\u001b[0;31m---------------------------------------------------------------------------\u001b[0m",
      "\u001b[0;31mNameError\u001b[0m                                 Traceback (most recent call last)",
      "Cell \u001b[0;32mIn[21], line 1\u001b[0m\n\u001b[0;32m----> 1\u001b[0m labels[\u001b[43mindices\u001b[49m,\u001b[38;5;241m0\u001b[39m]\u001b[38;5;241m.\u001b[39mshape, pca\u001b[38;5;241m.\u001b[39mfit_transform(S_dist)[indices,\u001b[38;5;241m0\u001b[39m]\u001b[38;5;241m.\u001b[39mshape\n",
      "\u001b[0;31mNameError\u001b[0m: name 'indices' is not defined"
     ]
    }
   ],
   "source": [
    "labels[indices,0].shape, pca.fit_transform(S_dist)[indices,0].shape"
   ]
  },
  {
   "cell_type": "code",
   "execution_count": null,
   "metadata": {},
   "outputs": [],
   "source": [
    "fig, ax = plt.subplots(figsize=(10,5))\n",
    "for l in np.unique(labels[:,-1]):\n",
    "    indices = labels[:,-1]==l\n",
    "    if l<np.unique(labels[:,-1])[-1]:\n",
    "        ax.scatter(pca.fit_transform(S_dist)[indices,0], pca.fit_transform(S_dist)[indices,1], facecolors=colors[int(l)])#, label=f'{np.round(l*100)}%')\n",
    "    else:\n",
    "        ax.scatter(pca.fit_transform(S_dist)[indices,0], pca.fit_transform(S_dist)[indices,1], facecolors=labels[indices,:3])\n",
    "#ax.legend(loc='upper right')\n",
    "ax.set_title('PCA');"
   ]
  },
  {
   "cell_type": "markdown",
   "metadata": {},
   "source": [
    "### Singular value decomposition "
   ]
  },
  {
   "cell_type": "code",
   "execution_count": null,
   "metadata": {},
   "outputs": [],
   "source": [
    "svd = TruncatedSVD(n_components=number_of_components, n_iter=51, random_state=42)\n",
    "svd.fit(S_dist)\n",
    "print(svd.explained_variance_ratio_)\n",
    "print(svd.explained_variance_ratio_.sum())\n",
    "print(svd.singular_values_)"
   ]
  },
  {
   "cell_type": "code",
   "execution_count": null,
   "metadata": {},
   "outputs": [],
   "source": [
    "fig, ax = plt.subplots(figsize=(10,5))\n",
    "for l in np.unique(labels[:,-1]):\n",
    "    indices = labels[:,-1]==l\n",
    "    if l<np.unique(labels[:,-1])[-1]:\n",
    "        ax.scatter(svd.fit_transform(S_dist)[indices,1], svd.fit_transform(S_dist)[indices,2], facecolors=colors[int(l)])\n",
    "    else:\n",
    "        ax.scatter(svd.fit_transform(S_dist)[indices,1], svd.fit_transform(S_dist)[indices,2], facecolors=labels[indices,:3])\n",
    "ax.set_title('SVD');"
   ]
  },
  {
   "cell_type": "markdown",
   "metadata": {},
   "source": [
    "## Non-linear dimensionnality reduction methods\n",
    "### Multidimensionnal scaling"
   ]
  },
  {
   "cell_type": "code",
   "execution_count": null,
   "metadata": {},
   "outputs": [],
   "source": [
    "mds_embedding = MDS(n_components=number_of_components, dissimilarity='precomputed').fit_transform(S_dist)# metric=True, normalized_stress='auto')"
   ]
  },
  {
   "cell_type": "code",
   "execution_count": null,
   "metadata": {},
   "outputs": [],
   "source": [
    "fig, ax = plt.subplots(figsize=(10,5))\n",
    "for l in np.unique(labels[:,-1]):\n",
    "    indices = labels[:,-1]==l\n",
    "    if l<np.unique(labels[:,-1])[-1]:\n",
    "        ax.scatter(mds_embedding[indices,0], mds_embedding[indices,1], facecolors=colors[int(l)])\n",
    "    else:\n",
    "        ax.scatter(mds_embedding[indices,0], mds_embedding[indices,1], facecolors=labels[indices,:3])\n",
    "ax.set_title('MDS');"
   ]
  },
  {
   "cell_type": "markdown",
   "metadata": {},
   "source": [
    "### Laplacian eigenmaps"
   ]
  },
  {
   "cell_type": "code",
   "execution_count": null,
   "metadata": {},
   "outputs": [],
   "source": [
    "s_embedding = spectral_embedding(S_dist, n_components=number_of_components)#.fit_transform(S_dist)"
   ]
  },
  {
   "cell_type": "code",
   "execution_count": null,
   "metadata": {},
   "outputs": [],
   "source": [
    "fig, ax = plt.subplots(figsize=(10,5))\n",
    "for l in np.unique(labels[:,-1]):\n",
    "    indices = labels[:,-1]==l\n",
    "    if l<np.unique(labels[:,-1])[-1]:\n",
    "        ax.scatter(s_embedding[indices,0], s_embedding[indices,1], facecolors=colors[int(l)])\n",
    "    else:\n",
    "        ax.scatter(s_embedding[indices,0], s_embedding[indices,1], facecolors=labels[indices,:3])\n",
    "ax.set_title('Laplacian Eigenmaps');"
   ]
  },
  {
   "cell_type": "markdown",
   "metadata": {
    "id": "k7kitgWuwVPO"
   },
   "source": [
    "### 2D t-SNE emb"
   ]
  },
  {
   "cell_type": "raw",
   "metadata": {
    "id": "8X07suj207HP"
   },
   "source": [
    "from sklearn.manifold import TSNE\n",
    "from sklearn.cluster import KMeans\n",
    "from sklearn.mixture import GaussianMixture\n",
    "\n",
    "from sklearn.metrics.cluster import adjusted_rand_score\n",
    "from sklearn.metrics import silhouette_score"
   ]
  },
  {
   "cell_type": "code",
   "execution_count": null,
   "metadata": {
    "id": "NdRIa6yVwLFC"
   },
   "outputs": [],
   "source": [
    "def get_2d_tsne_embedding(diss, perplexity=70., n_components=2):\n",
    "    return TSNE(metric='precomputed', n_components=n_components, random_state=0, perplexity=perplexity, init='random').fit_transform(diss)"
   ]
  },
  {
   "cell_type": "code",
   "execution_count": null,
   "metadata": {
    "id": "iCoiyw7Y1AMU"
   },
   "outputs": [],
   "source": [
    "S_emb = get_2d_tsne_embedding(S_dist, perplexity = 30, n_components=number_of_components-1)"
   ]
  },
  {
   "cell_type": "code",
   "execution_count": null,
   "metadata": {
    "colab": {
     "base_uri": "https://localhost:8080/",
     "height": 464
    },
    "id": "BMZ_8WBO1WsH",
    "outputId": "d9e268a5-eb98-4943-c0ea-a8fd4a65b71a"
   },
   "outputs": [],
   "source": [
    "fig, axs = plt.subplots(figsize=(10,10))\n",
    "for l in np.unique(labels[:,-1]):\n",
    "    indices = labels[:,-1]==l\n",
    "    if l<np.unique(labels[:,-1])[-1]:\n",
    "        axs.scatter(S_emb[indices,1], S_emb[indices,0], facecolors=colors[int(l)])\n",
    "    else:\n",
    "        axs.scatter(S_emb[indices,1], S_emb[indices,0], facecolors=labels[indices,:3])\n",
    "#unique_labels = np.unique(labels)\n",
    "#for i in range(len(unique_labels)):\n",
    "#    label_id = unique_labels[i]\n",
    "#    temp_mask = labels == label_id\n",
    "#    axs.scatter(S_emb[temp_mask,0], S_emb[temp_mask,1], s = 5, cmap='Set1')\n",
    "#axs.set_xlabel(\"1st Comp.\")\n",
    "#axs.set_ylabel(\"2nd Comp.\")\n",
    "\n",
    "axs.set_title('2D t-SNE embedding') ;"
   ]
  },
  {
   "cell_type": "markdown",
   "metadata": {},
   "source": [
    "From this notebook, it seems that linear dimensionnal reduction techniques are good candidate for the present task. Maybe due to the generative model that makes a linear mixture of the 2 first patterns. It can be interesting to test other generative models for the raster plots. To add spontaneous activity and also to add more patterns for the mixture of patterns. "
   ]
  },
  {
   "cell_type": "code",
   "execution_count": null,
   "metadata": {},
   "outputs": [],
   "source": []
  },
  {
   "cell_type": "code",
   "execution_count": null,
   "metadata": {},
   "outputs": [],
   "source": []
  },
  {
   "cell_type": "markdown",
   "metadata": {
    "id": "w-bc2_ac1sYW"
   },
   "source": [
    "**`Missing:`**\n",
    "+ label of each epoch.\n",
    "\n",
    "**`Change`**:\n",
    "+ Span pattern across window length or\n",
    "+ Reduce SNR."
   ]
  },
  {
   "cell_type": "markdown",
   "metadata": {
    "id": "vpVP8HUUpLWW"
   },
   "source": [
    "**``TODO:``**\n",
    "\n",
    "Make different combinations of two sources in discrete steps (i.e. $\\lambda=\\{0,0.2,0.4,...,1\\}$, then $P_3 \\equiv \\lambda_i P_1 + (1-\\lambda_i) P_2$)."
   ]
  },
  {
   "cell_type": "markdown",
   "metadata": {
    "id": "lprEG5t8wYEk"
   },
   "source": [
    "### Clustering performance"
   ]
  },
  {
   "cell_type": "markdown",
   "metadata": {
    "id": "NzdUo0tOqUDQ"
   },
   "source": [
    "Requirements:\n",
    "+ Patterns with discrete steps of mixture/combination"
   ]
  },
  {
   "cell_type": "code",
   "execution_count": null,
   "metadata": {
    "id": "qKTTJXSrwZBh"
   },
   "outputs": [],
   "source": []
  }
 ],
 "metadata": {
  "colab": {
   "provenance": []
  },
  "kernelspec": {
   "display_name": "Python 3 (ipykernel)",
   "language": "python",
   "name": "python3"
  },
  "language_info": {
   "codemirror_mode": {
    "name": "ipython",
    "version": 3
   },
   "file_extension": ".py",
   "mimetype": "text/x-python",
   "name": "python",
   "nbconvert_exporter": "python",
   "pygments_lexer": "ipython3",
   "version": "3.10.12"
  }
 },
 "nbformat": 4,
 "nbformat_minor": 4
}
