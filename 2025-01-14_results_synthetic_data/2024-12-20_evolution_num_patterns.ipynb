{
 "cells": [
  {
   "cell_type": "code",
   "execution_count": 1,
   "id": "406451b5-563f-4c79-97f2-30aebbf6f04c",
   "metadata": {},
   "outputs": [],
   "source": [
    "%load_ext autoreload\n",
    "%autoreload 2"
   ]
  },
  {
   "cell_type": "markdown",
   "id": "ee3e50bd-1b65-4942-adc7-f4beeefd3c0d",
   "metadata": {},
   "source": [
    "# Training as a function of the number of patterns"
   ]
  },
  {
   "cell_type": "code",
   "execution_count": 2,
   "id": "366dd262-996d-494d-b283-4a95f56c0927",
   "metadata": {},
   "outputs": [],
   "source": [
    "import torch\n",
    "import numpy as np\n",
    "import matplotlib.pyplot as plt\n",
    "from wassa.wassa_plots import plot_results_std, plot_SM, plot_colored_raster\n",
    "from wassa.dataset_generation import sm_generative_model, generate_dataset\n",
    "from wassa.wassa_utils import performance_as_a_function_of_number_of_motifs"
   ]
  },
  {
   "cell_type": "code",
   "execution_count": 3,
   "id": "848910ac-dbc4-4a1a-bc9e-c9e37181116a",
   "metadata": {},
   "outputs": [
    {
     "name": "stdout",
     "output_type": "stream",
     "text": [
      "cuda\n"
     ]
    }
   ],
   "source": [
    "date = '2024_01_24'\n",
    "device = torch.device(\"cuda\" if torch.cuda.is_available() else \"cpu\")\n",
    "print(device)"
   ]
  },
  {
   "cell_type": "code",
   "execution_count": 4,
   "id": "8184d469-5b7f-4679-98f2-d88dd5633173",
   "metadata": {},
   "outputs": [],
   "source": [
    "device = 'cuda:1'"
   ]
  },
  {
   "cell_type": "code",
   "execution_count": 5,
   "id": "dbb3ebdc-61f5-45fb-b460-4e816ff69375",
   "metadata": {},
   "outputs": [],
   "source": [
    "class dataset_parameters():\n",
    "    seed = 666\n",
    "    \n",
    "    N_pre = 100 # number of neurons\n",
    "    N_timesteps = 255 # number of timesteps for the raster plot (in ms)\n",
    "    N_samples = 60 # total number of samples in the dataset\n",
    "\n",
    "    N_delays = 51 # number of timesteps in spiking motifs, must be a odd number for convolutions\n",
    "    N_SMs = 1 # number of structured spiking motifs\n",
    "    N_involved = N_pre*torch.ones(N_SMs) # number of neurons involved in the spiking motif\n",
    "    avg_fr = 20 # average firing rate of the neurons (in Hz)\n",
    "    std_fr = .1 # standard deviation for the firing rates of the different neurons\n",
    "    frs = torch.normal(avg_fr, std_fr, size=(N_pre,)).abs()\n",
    "    freq_sms = 16*torch.ones(N_SMs) # frequency of apparition of the different spiking motifs (in Hz)\n",
    "    overlapping_sms = False # possibility to have overlapping sequences\n",
    "\n",
    "    temporal_jitter = .1 # temporal jitter for the spike generation in motifs\n",
    "    dropout_proba = 0 # probabilistic participations of the different neurons to the spiking motif\n",
    "    additive_noise = .1 # percentage of background noise/spontaneous activity\n",
    "    warping_coef = 1 # coefficient for time warping\n",
    "\n",
    "    def get_parameters(self):\n",
    "        return f'{self.N_pre}_{self.N_delays}_{self.N_SMs}_{self.N_timesteps}_{self.N_samples}_{self.N_involved.mean()}_{self.avg_fr}_{self.freq_sms.mean()}_{self.overlapping_sms}_{self.temporal_jitter}_{self.dropout_proba}_{self.additive_noise}_{self.warping_coef}_{self.seed}'"
   ]
  },
  {
   "cell_type": "code",
   "execution_count": 6,
   "id": "e082132a-420a-4922-bc4b-7ff229b74eba",
   "metadata": {},
   "outputs": [],
   "source": [
    "class training_parameters:\n",
    "    kernel_size = (dataset_parameters.N_SMs, dataset_parameters.N_pre, dataset_parameters.N_delays)\n",
    "    loss_type = 'mse'\n",
    "    N_learnsteps = 1000\n",
    "    learning_rate = .001\n",
    "    penalty_type = 'smoothed_orthogonality'\n",
    "    smoothwind = 40\n",
    "    lambda_ = .1\n",
    "    batch_size = None\n",
    "    output = 'linear' \n",
    "    do_bias = True \n",
    "    zeros = 'ignore'\n",
    "    wass_order = 1\n",
    "    weight_init = None\n",
    "    if not penalty_type:\n",
    "        lambda_ = 0\n",
    "    elif penalty_type[:8] != 'smoothed': \n",
    "        smoothwind = 0\n",
    "    if lambda_ == 0:\n",
    "        penalty_type = None\n",
    "    def get_parameters(self):\n",
    "        name = f'{self.loss_type}_{self.output}_{self.penalty_type}_{self.do_bias}_{self.kernel_size}_{self.N_learnsteps}_{self.learning_rate}_{self.lambda_}_{self.batch_size}_{self.smoothwind}'\n",
    "        if self.loss_type == 'emd':\n",
    "            name += f'_{self.zeros}_{self.wass_order}'\n",
    "        return name"
   ]
  },
  {
   "cell_type": "code",
   "execution_count": 7,
   "id": "701ece58-4e93-4d6a-81d2-435d30f63244",
   "metadata": {},
   "outputs": [],
   "source": [
    "params_mse = training_parameters()\n",
    "params_emd = training_parameters()\n",
    "params_emd.loss_type = 'emd'\n",
    "params_emd.penalty_type = 'cc'\n",
    "params_emd.lambda_ = 1"
   ]
  },
  {
   "cell_type": "code",
   "execution_count": 8,
   "id": "168a340d-0048-4953-b02b-1678c606276b",
   "metadata": {},
   "outputs": [
    {
     "name": "stdout",
     "output_type": "stream",
     "text": [
      "../results/2024_01_24_performance_as_a_function_of_number_of_motifs_100_51_1_255_60_100.0_20_16.0_False_0.1_0_0.1_1_666_emd_linear_cc_True_(1, 100, 51)_1000_0.001_1_None_40_ignore_1_1_9_seqnmf\n"
     ]
    },
    {
     "name": "stderr",
     "output_type": "stream",
     "text": [
      "  0%|                                                                                                                                                           | 0/240 [00:00<?, ?it/s]"
     ]
    },
    {
     "ename": "RuntimeError",
     "evalue": "Parent directory results does not exist.",
     "output_type": "error",
     "traceback": [
      "\u001b[0;31m---------------------------------------------------------------------------\u001b[0m",
      "\u001b[0;31mRuntimeError\u001b[0m                              Traceback (most recent call last)",
      "Cell \u001b[0;32mIn[8], line 4\u001b[0m\n\u001b[1;32m      2\u001b[0m seeds \u001b[38;5;241m=\u001b[39m torch\u001b[38;5;241m.\u001b[39marange(\u001b[38;5;241m0\u001b[39m,N_iter)\n\u001b[1;32m      3\u001b[0m num_patterns \u001b[38;5;241m=\u001b[39m torch\u001b[38;5;241m.\u001b[39marange(\u001b[38;5;241m1\u001b[39m,\u001b[38;5;241m10\u001b[39m)\n\u001b[0;32m----> 4\u001b[0m results, num_patterns \u001b[38;5;241m=\u001b[39m performance_as_a_function_of_number_of_motifs(dataset_parameters, params_emd, params_mse, date, num_patterns, N_iter \u001b[38;5;241m=\u001b[39m N_iter, seeds \u001b[38;5;241m=\u001b[39m seeds, do_seqnmf \u001b[38;5;241m=\u001b[39m \u001b[38;5;28;01mTrue\u001b[39;00m, device\u001b[38;5;241m=\u001b[39mdevice)\n",
      "File \u001b[0;32m~/Documents/wassa/wassa/wassa_utils.py:250\u001b[0m, in \u001b[0;36mperformance_as_a_function_of_number_of_motifs\u001b[0;34m(dataset_parameters, params_emd, params_mse, date, num_patterns, N_iter, seeds, do_seqnmf, device)\u001b[0m\n\u001b[1;32m    248\u001b[0m dataset_parameters\u001b[38;5;241m.\u001b[39mN_SMs \u001b[38;5;241m=\u001b[39m n_mot\n\u001b[1;32m    249\u001b[0m dataset_parameters\u001b[38;5;241m.\u001b[39mN_involved \u001b[38;5;241m=\u001b[39m dataset_parameters\u001b[38;5;241m.\u001b[39mN_pre\u001b[38;5;241m*\u001b[39mtorch\u001b[38;5;241m.\u001b[39mones(n_mot)\n\u001b[0;32m--> 250\u001b[0m dataset_parameters\u001b[38;5;241m.\u001b[39mfreq_sms \u001b[38;5;241m=\u001b[39m freq_init\u001b[38;5;241m.\u001b[39mdiv(n_mot)\u001b[38;5;241m*\u001b[39mtorch\u001b[38;5;241m.\u001b[39mones(n_mot)\n\u001b[1;32m    251\u001b[0m params_emd\u001b[38;5;241m.\u001b[39mkernel_size \u001b[38;5;241m=\u001b[39m (n_mot,dataset_parameters\u001b[38;5;241m.\u001b[39mN_pre,dataset_parameters\u001b[38;5;241m.\u001b[39mN_delays)\n\u001b[1;32m    252\u001b[0m params_mse\u001b[38;5;241m.\u001b[39mkernel_size \u001b[38;5;241m=\u001b[39m (n_mot,dataset_parameters\u001b[38;5;241m.\u001b[39mN_pre,dataset_parameters\u001b[38;5;241m.\u001b[39mN_delays)\n",
      "File \u001b[0;32m~/miniconda3/envs/wassa/lib/python3.12/site-packages/torch/serialization.py:628\u001b[0m, in \u001b[0;36msave\u001b[0;34m(obj, f, pickle_module, pickle_protocol, _use_new_zipfile_serialization, _disable_byteorder_record)\u001b[0m\n\u001b[1;32m    625\u001b[0m _check_save_filelike(f)\n\u001b[1;32m    627\u001b[0m \u001b[38;5;28;01mif\u001b[39;00m _use_new_zipfile_serialization:\n\u001b[0;32m--> 628\u001b[0m     \u001b[38;5;28;01mwith\u001b[39;00m _open_zipfile_writer(f) \u001b[38;5;28;01mas\u001b[39;00m opened_zipfile:\n\u001b[1;32m    629\u001b[0m         _save(obj, opened_zipfile, pickle_module, pickle_protocol, _disable_byteorder_record)\n\u001b[1;32m    630\u001b[0m         \u001b[38;5;28;01mreturn\u001b[39;00m\n",
      "File \u001b[0;32m~/miniconda3/envs/wassa/lib/python3.12/site-packages/torch/serialization.py:502\u001b[0m, in \u001b[0;36m_open_zipfile_writer\u001b[0;34m(name_or_buffer)\u001b[0m\n\u001b[1;32m    500\u001b[0m \u001b[38;5;28;01melse\u001b[39;00m:\n\u001b[1;32m    501\u001b[0m     container \u001b[38;5;241m=\u001b[39m _open_zipfile_writer_buffer\n\u001b[0;32m--> 502\u001b[0m \u001b[38;5;28;01mreturn\u001b[39;00m container(name_or_buffer)\n",
      "File \u001b[0;32m~/miniconda3/envs/wassa/lib/python3.12/site-packages/torch/serialization.py:473\u001b[0m, in \u001b[0;36m_open_zipfile_writer_file.__init__\u001b[0;34m(self, name)\u001b[0m\n\u001b[1;32m    471\u001b[0m     \u001b[38;5;28msuper\u001b[39m()\u001b[38;5;241m.\u001b[39m\u001b[38;5;21m__init__\u001b[39m(torch\u001b[38;5;241m.\u001b[39m_C\u001b[38;5;241m.\u001b[39mPyTorchFileWriter(\u001b[38;5;28mself\u001b[39m\u001b[38;5;241m.\u001b[39mfile_stream))\n\u001b[1;32m    472\u001b[0m \u001b[38;5;28;01melse\u001b[39;00m:\n\u001b[0;32m--> 473\u001b[0m     \u001b[38;5;28msuper\u001b[39m()\u001b[38;5;241m.\u001b[39m\u001b[38;5;21m__init__\u001b[39m(torch\u001b[38;5;241m.\u001b[39m_C\u001b[38;5;241m.\u001b[39mPyTorchFileWriter(\u001b[38;5;28mself\u001b[39m\u001b[38;5;241m.\u001b[39mname))\n",
      "\u001b[0;31mRuntimeError\u001b[0m: Parent directory results does not exist."
     ]
    }
   ],
   "source": [
    "N_iter = 20\n",
    "seeds = torch.arange(0,N_iter)\n",
    "num_patterns = torch.arange(1,10)\n",
    "results, num_patterns = performance_as_a_function_of_number_of_motifs(dataset_parameters, params_emd, params_mse, date, num_patterns, N_iter = N_iter, seeds = seeds, do_seqnmf = True, device=device)"
   ]
  },
  {
   "cell_type": "code",
   "execution_count": null,
   "id": "22ce3a5d-e3e5-4054-969c-e620e4c6018d",
   "metadata": {},
   "outputs": [],
   "source": [
    "def plot_results_std(ax, results, coefs, xlabel, ylabel, legend, color, do_ylabel, ymax=None, ymin=None, do_legend=False, logplot=False, quantile=False):\n",
    "     \n",
    "    mean_, std_ = results.mean(axis=0), results.std(axis=0)\n",
    "    \n",
    "    if quantile:\n",
    "        q5 = results.quantile(.2,axis=0)\n",
    "        q95 = results.quantile(.8,axis=0)\n",
    "\n",
    "    if quantile:\n",
    "        bottom_ = q5\n",
    "    elif ymin is not None:\n",
    "        bottom_ = np.maximum(mean_ - std_, ymin*np.ones([len(mean_)]))\n",
    "    else:\n",
    "        bottom_ = mean_ - std_\n",
    "        \n",
    "    if quantile:\n",
    "        top_ = q95\n",
    "    elif ymax is not None:\n",
    "        top_= np.minimum(mean_ + std_, ymax*np.ones([len(mean_)]))\n",
    "    else:\n",
    "        top_ = mean_ + std_\n",
    "\n",
    "    if logplot:\n",
    "        ax.semilogx(coefs, mean_, '.',color=color, label=legend)\n",
    "    else:\n",
    "        ax.plot(coefs, mean_, 'P',color=color, markeredgecolor='white', markersize=10, label=legend)\n",
    "\n",
    "    ax.scatter(coefs.unsqueeze(0).repeat(results.shape[0],1),results, color=color,alpha=.2)\n",
    "    \n",
    "    ax.fill_between(coefs, bottom_, top_, facecolor=color, edgecolor=None, alpha=.3)\n",
    "\n",
    "    ax.set_ylim(ymin,ymax)\n",
    "    \n",
    "    if xlabel: \n",
    "        ax.set_xlabel(xlabel, fontsize=14)\n",
    "    else: \n",
    "        ax.set_xticks([])\n",
    "    if do_ylabel:\n",
    "        ax.set_ylabel('similarity value', fontsize=14)\n",
    "    else: \n",
    "        ax.set_yticks([])\n",
    "    ax.set_title(ylabel, fontsize=16)\n",
    "    if do_legend: \n",
    "        ax.legend(fontsize=12);\n",
    "\n",
    "    return ax"
   ]
  },
  {
   "cell_type": "code",
   "execution_count": null,
   "id": "d4b59cec-8a6b-4b00-aac4-61d42614702a",
   "metadata": {},
   "outputs": [],
   "source": [
    "import matplotlib.pyplot as plt\n",
    "\n",
    "name_metrics = ['factors similarity', 'kernels similarity', 'mean timings similarity']\n",
    "name_methods = ['MSE', 'EMD']#, 'combined']\n",
    "colors = ['darkolivegreen','blue','orangered']\n",
    "xlabel = '# spiking motifs'\n",
    "\n",
    "results = results.cpu()\n",
    "fig, ax = plt.subplots(1,3, figsize=(16,5))\n",
    "for i in range(len(name_metrics)):\n",
    "    for m in range(len(name_methods)):\n",
    "        if i==0:\n",
    "            do_ylabel = True\n",
    "        else:\n",
    "            do_ylabel = False\n",
    "        if i == 0:\n",
    "            ymin = -.1\n",
    "        else:\n",
    "            ymin = 0\n",
    "        if i == 1:\n",
    "            do_legend = True\n",
    "        else:\n",
    "            do_legend = False\n",
    "        ax[i] = plot_results_std(ax[i],results[m,:,:,i],num_patterns,xlabel,name_metrics[i],name_methods[m],colors[m],ymax=1,ymin=ymin,do_ylabel=do_ylabel,do_legend=do_legend,quantile=True)"
   ]
  },
  {
   "cell_type": "raw",
   "id": "394fcabd-ae9e-42d2-9588-699b01b8d16f",
   "metadata": {},
   "source": [
    "fig.tight_layout()\n",
    "fig.savefig('../figures/results_motifs.pdf', bbox_inches = 'tight')"
   ]
  },
  {
   "cell_type": "code",
   "execution_count": null,
   "id": "1f664077-1137-428d-9eec-0111db1c3c5d",
   "metadata": {},
   "outputs": [],
   "source": []
  }
 ],
 "metadata": {
  "kernelspec": {
   "display_name": "Python 3 (ipykernel)",
   "language": "python",
   "name": "python3"
  },
  "language_info": {
   "codemirror_mode": {
    "name": "ipython",
    "version": 3
   },
   "file_extension": ".py",
   "mimetype": "text/x-python",
   "name": "python",
   "nbconvert_exporter": "python",
   "pygments_lexer": "ipython3",
   "version": "3.12.7"
  }
 },
 "nbformat": 4,
 "nbformat_minor": 5
}
